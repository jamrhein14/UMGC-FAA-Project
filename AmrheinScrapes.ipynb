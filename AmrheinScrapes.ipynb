{
 "cells": [
  {
   "cell_type": "markdown",
   "id": "e20decec",
   "metadata": {},
   "source": [
    "# Web Scraping"
   ]
  },
  {
   "cell_type": "markdown",
   "id": "25833921",
   "metadata": {},
   "source": [
    "The following code is WIP and was meant to be used with sentimental analysis to understand the public sentiments to the FAA's approval of the unleaded fuel. Only some scrapes were completed; the sentiment analysis was not finished."
   ]
  },
  {
   "cell_type": "markdown",
   "id": "1219d92c",
   "metadata": {},
   "source": [
    "## Forum Scrapes"
   ]
  },
  {
   "cell_type": "markdown",
   "id": "47579ba9",
   "metadata": {},
   "source": [
    "Based on this guide:\n",
    "\\\n",
    "https://data36.com/scrape-multiple-web-pages-beautiful-soup-tutorial/"
   ]
  },
  {
   "cell_type": "markdown",
   "id": "60458361",
   "metadata": {},
   "source": [
    "The forum scrape uses the Beautiful Soup library."
   ]
  },
  {
   "cell_type": "code",
   "execution_count": 1,
   "id": "552afe43",
   "metadata": {},
   "outputs": [
    {
     "name": "stdout",
     "output_type": "stream",
     "text": [
      "Requirement already satisfied: beautifulsoup4 in c:\\users\\jamrh\\anaconda3\\lib\\site-packages (4.10.0)\n",
      "Requirement already satisfied: soupsieve>1.2 in c:\\users\\jamrh\\anaconda3\\lib\\site-packages (from beautifulsoup4) (2.2.1)\n",
      "Requirement already satisfied: lxml in c:\\users\\jamrh\\anaconda3\\lib\\site-packages (4.6.3)\n",
      "Requirement already satisfied: requests in c:\\users\\jamrh\\anaconda3\\lib\\site-packages (2.26.0)\n",
      "Requirement already satisfied: idna<4,>=2.5 in c:\\users\\jamrh\\anaconda3\\lib\\site-packages (from requests) (3.2)\n",
      "Requirement already satisfied: urllib3<1.27,>=1.21.1 in c:\\users\\jamrh\\anaconda3\\lib\\site-packages (from requests) (1.26.7)\n",
      "Requirement already satisfied: certifi>=2017.4.17 in c:\\users\\jamrh\\anaconda3\\lib\\site-packages (from requests) (2021.10.8)\n",
      "Requirement already satisfied: charset-normalizer~=2.0.0 in c:\\users\\jamrh\\anaconda3\\lib\\site-packages (from requests) (2.0.4)\n"
     ]
    }
   ],
   "source": [
    "!pip install beautifulsoup4\n",
    "!pip install lxml\n",
    "!pip install requests\n",
    "\n",
    "from bs4 import BeautifulSoup\n",
    "import requests\n",
    "import pandas as pd"
   ]
  },
  {
   "cell_type": "markdown",
   "id": "8e7419e7",
   "metadata": {},
   "source": [
    "## Pilots of America thread: \"G100UL unleaded avgas approved\""
   ]
  },
  {
   "cell_type": "code",
   "execution_count": 2,
   "id": "5c522eaf",
   "metadata": {},
   "outputs": [
    {
     "data": {
      "text/html": [
       "<div>\n",
       "<style scoped>\n",
       "    .dataframe tbody tr th:only-of-type {\n",
       "        vertical-align: middle;\n",
       "    }\n",
       "\n",
       "    .dataframe tbody tr th {\n",
       "        vertical-align: top;\n",
       "    }\n",
       "\n",
       "    .dataframe thead th {\n",
       "        text-align: right;\n",
       "    }\n",
       "</style>\n",
       "<table border=\"1\" class=\"dataframe\">\n",
       "  <thead>\n",
       "    <tr style=\"text-align: right;\">\n",
       "      <th></th>\n",
       "      <th>discussion</th>\n",
       "      <th>posts</th>\n",
       "    </tr>\n",
       "  </thead>\n",
       "  <tbody>\n",
       "    <tr>\n",
       "      <th>0</th>\n",
       "      <td>https://www.pilotsofamerica.com/community/thre...</td>\n",
       "      <td>In case you haven't heard yet...Yesterday Geor...</td>\n",
       "    </tr>\n",
       "    <tr>\n",
       "      <th>1</th>\n",
       "      <td>https://www.pilotsofamerica.com/community/thre...</td>\n",
       "      <td>So, is this a drop in replacement, even for hi...</td>\n",
       "    </tr>\n",
       "    <tr>\n",
       "      <th>2</th>\n",
       "      <td>https://www.pilotsofamerica.com/community/thre...</td>\n",
       "      <td>Jim K said:↑In case you haven't heard yet...Ye...</td>\n",
       "    </tr>\n",
       "    <tr>\n",
       "      <th>3</th>\n",
       "      <td>https://www.pilotsofamerica.com/community/thre...</td>\n",
       "      <td>So, are these guys making money on the STCs th...</td>\n",
       "    </tr>\n",
       "    <tr>\n",
       "      <th>4</th>\n",
       "      <td>https://www.pilotsofamerica.com/community/thre...</td>\n",
       "      <td>dans2992 said:↑So, is this a drop in replaceme...</td>\n",
       "    </tr>\n",
       "    <tr>\n",
       "      <th>...</th>\n",
       "      <td>...</td>\n",
       "      <td>...</td>\n",
       "    </tr>\n",
       "    <tr>\n",
       "      <th>276</th>\n",
       "      <td>https://www.pilotsofamerica.com/community/thre...</td>\n",
       "      <td>Doug Reid said:↑I am more concerned about the ...</td>\n",
       "    </tr>\n",
       "    <tr>\n",
       "      <th>277</th>\n",
       "      <td>https://www.pilotsofamerica.com/community/thre...</td>\n",
       "      <td>ldhilljr13 said:↑I think many of us are, both ...</td>\n",
       "    </tr>\n",
       "    <tr>\n",
       "      <th>278</th>\n",
       "      <td>https://www.pilotsofamerica.com/community/thre...</td>\n",
       "      <td>Andy Appeltans said:↑https://www.aopa.org/news...</td>\n",
       "    </tr>\n",
       "    <tr>\n",
       "      <th>279</th>\n",
       "      <td>https://www.pilotsofamerica.com/community/thre...</td>\n",
       "      <td>Kevin Eggert said:↑As you said here, the artic...</td>\n",
       "    </tr>\n",
       "    <tr>\n",
       "      <th>280</th>\n",
       "      <td>https://www.pilotsofamerica.com/community/thre...</td>\n",
       "      <td>The Petersen Mogas STC for my Cherokee 180 is ...</td>\n",
       "    </tr>\n",
       "  </tbody>\n",
       "</table>\n",
       "<p>281 rows × 2 columns</p>\n",
       "</div>"
      ],
      "text/plain": [
       "                                            discussion  \\\n",
       "0    https://www.pilotsofamerica.com/community/thre...   \n",
       "1    https://www.pilotsofamerica.com/community/thre...   \n",
       "2    https://www.pilotsofamerica.com/community/thre...   \n",
       "3    https://www.pilotsofamerica.com/community/thre...   \n",
       "4    https://www.pilotsofamerica.com/community/thre...   \n",
       "..                                                 ...   \n",
       "276  https://www.pilotsofamerica.com/community/thre...   \n",
       "277  https://www.pilotsofamerica.com/community/thre...   \n",
       "278  https://www.pilotsofamerica.com/community/thre...   \n",
       "279  https://www.pilotsofamerica.com/community/thre...   \n",
       "280  https://www.pilotsofamerica.com/community/thre...   \n",
       "\n",
       "                                                 posts  \n",
       "0    In case you haven't heard yet...Yesterday Geor...  \n",
       "1    So, is this a drop in replacement, even for hi...  \n",
       "2    Jim K said:↑In case you haven't heard yet...Ye...  \n",
       "3    So, are these guys making money on the STCs th...  \n",
       "4    dans2992 said:↑So, is this a drop in replaceme...  \n",
       "..                                                 ...  \n",
       "276  Doug Reid said:↑I am more concerned about the ...  \n",
       "277  ldhilljr13 said:↑I think many of us are, both ...  \n",
       "278  Andy Appeltans said:↑https://www.aopa.org/news...  \n",
       "279  Kevin Eggert said:↑As you said here, the artic...  \n",
       "280  The Petersen Mogas STC for my Cherokee 180 is ...  \n",
       "\n",
       "[281 rows x 2 columns]"
      ]
     },
     "execution_count": 2,
     "metadata": {},
     "output_type": "execute_result"
    }
   ],
   "source": [
    "link = 'https://www.pilotsofamerica.com/community/threads/g100ul-unleaded-avgas-approved.133398/'\n",
    "page = 1\n",
    "article = []\n",
    "message = []\n",
    "\n",
    "# Put the total number of pages for the discussion + 1\n",
    "while page != 9:\n",
    "    url = f'{link}page-{page}'\n",
    "    html_text = requests.get(url).text\n",
    "    soup = BeautifulSoup(html_text, 'lxml')\n",
    "    posts = soup.find_all('li', {'class': 'message'})\n",
    "    for blockquote in soup.find_all('blockquote', class_='messageText'):\n",
    "        message.append(blockquote.get_text(strip=True))\n",
    "        article.append(link)\n",
    "    page = page + 1\n",
    "\n",
    "\n",
    "forum_df1 = pd.DataFrame({'discussion': article, 'posts': message})\n",
    "forum_df1.posts = forum_df1.posts.str.strip() #Gets rid of whitespace in front and back\n",
    "forum_df1.posts = forum_df1.posts.replace(r'\\n',' ', regex=True)  #Makes everything one line\n",
    "\n",
    "forum_df1"
   ]
  },
  {
   "cell_type": "markdown",
   "id": "f8b5f4ed",
   "metadata": {},
   "source": [
    "## Reddit Scrapes"
   ]
  },
  {
   "cell_type": "markdown",
   "id": "43efd501",
   "metadata": {},
   "source": [
    "Based on these guides:\n",
    "\\\n",
    "https://www.geeksforgeeks.org/scraping-reddit-using-python/\n",
    "\\\n",
    "https://towardsdatascience.com/scraping-reddit-data-1c0af3040768"
   ]
  },
  {
   "cell_type": "markdown",
   "id": "00944dbe",
   "metadata": {},
   "source": [
    "Creating PRAW (Python Reddit API Wrapper) instance to connect to Reddit. \n",
    "\\\n",
    "For privacy reasons, personal account information is removed."
   ]
  },
  {
   "cell_type": "code",
   "execution_count": 3,
   "id": "668c6e1e",
   "metadata": {},
   "outputs": [
    {
     "name": "stdout",
     "output_type": "stream",
     "text": [
      "Requirement already satisfied: praw in c:\\users\\jamrh\\anaconda3\\lib\\site-packages (7.5.0)\n",
      "Requirement already satisfied: prawcore<3,>=2.1 in c:\\users\\jamrh\\anaconda3\\lib\\site-packages (from praw) (2.3.0)\n",
      "Requirement already satisfied: websocket-client>=0.54.0 in c:\\users\\jamrh\\anaconda3\\lib\\site-packages (from praw) (1.3.2)\n",
      "Requirement already satisfied: update-checker>=0.18 in c:\\users\\jamrh\\anaconda3\\lib\\site-packages (from praw) (0.18.0)\n",
      "Requirement already satisfied: requests<3.0,>=2.6.0 in c:\\users\\jamrh\\anaconda3\\lib\\site-packages (from prawcore<3,>=2.1->praw) (2.26.0)\n",
      "Requirement already satisfied: idna<4,>=2.5 in c:\\users\\jamrh\\anaconda3\\lib\\site-packages (from requests<3.0,>=2.6.0->prawcore<3,>=2.1->praw) (3.2)\n",
      "Requirement already satisfied: certifi>=2017.4.17 in c:\\users\\jamrh\\anaconda3\\lib\\site-packages (from requests<3.0,>=2.6.0->prawcore<3,>=2.1->praw) (2021.10.8)\n",
      "Requirement already satisfied: charset-normalizer~=2.0.0 in c:\\users\\jamrh\\anaconda3\\lib\\site-packages (from requests<3.0,>=2.6.0->prawcore<3,>=2.1->praw) (2.0.4)\n",
      "Requirement already satisfied: urllib3<1.27,>=1.21.1 in c:\\users\\jamrh\\anaconda3\\lib\\site-packages (from requests<3.0,>=2.6.0->prawcore<3,>=2.1->praw) (1.26.7)\n"
     ]
    }
   ],
   "source": [
    "!pip install praw\n",
    "\n",
    "import praw\n",
    "import pandas as pd\n",
    "from praw.models import MoreComments"
   ]
  },
  {
   "cell_type": "code",
   "execution_count": 4,
   "id": "9f8adec2",
   "metadata": {},
   "outputs": [],
   "source": [
    "# Read-only instance\n",
    "reddit_read_only = praw.Reddit(client_id = '',\n",
    "                               client_secret = '',\n",
    "                               user_agent = '')\n",
    "\n",
    "# Values were removed - find out strings with your own Reddit app using the guides above"
   ]
  },
  {
   "cell_type": "markdown",
   "id": "c6a43eaf",
   "metadata": {},
   "source": [
    "### Reddit thread 1: \"FAA approves Unleaded fuel… FINALLY\" from r/flying"
   ]
  },
  {
   "cell_type": "code",
   "execution_count": 5,
   "id": "de446802",
   "metadata": {},
   "outputs": [],
   "source": [
    "url = 'https://www.reddit.com/r/flying/comments/osyqxi/faa_approves_unleaded_fuel_finally/'\n",
    "submission = reddit_read_only.submission(url = url)"
   ]
  },
  {
   "cell_type": "code",
   "execution_count": 6,
   "id": "b6481efc",
   "metadata": {},
   "outputs": [
    {
     "data": {
      "text/html": [
       "<div>\n",
       "<style scoped>\n",
       "    .dataframe tbody tr th:only-of-type {\n",
       "        vertical-align: middle;\n",
       "    }\n",
       "\n",
       "    .dataframe tbody tr th {\n",
       "        vertical-align: top;\n",
       "    }\n",
       "\n",
       "    .dataframe thead th {\n",
       "        text-align: right;\n",
       "    }\n",
       "</style>\n",
       "<table border=\"1\" class=\"dataframe\">\n",
       "  <thead>\n",
       "    <tr style=\"text-align: right;\">\n",
       "      <th></th>\n",
       "      <th>comment</th>\n",
       "    </tr>\n",
       "  </thead>\n",
       "  <tbody>\n",
       "    <tr>\n",
       "      <th>0</th>\n",
       "      <td>Glad my plane runs on mogas</td>\n",
       "    </tr>\n",
       "    <tr>\n",
       "      <th>1</th>\n",
       "      <td>Now if they could get their stupid ass medical...</td>\n",
       "    </tr>\n",
       "    <tr>\n",
       "      <th>2</th>\n",
       "      <td>What's the catch? Good news doesn't usually sn...</td>\n",
       "    </tr>\n",
       "    <tr>\n",
       "      <th>3</th>\n",
       "      <td>Does anyone/has anyone gotten lead blood tests...</td>\n",
       "    </tr>\n",
       "    <tr>\n",
       "      <th>4</th>\n",
       "      <td>Piper STC meow</td>\n",
       "    </tr>\n",
       "    <tr>\n",
       "      <th>...</th>\n",
       "      <td>...</td>\n",
       "    </tr>\n",
       "    <tr>\n",
       "      <th>256</th>\n",
       "      <td>That's not necessarily true about finding moto...</td>\n",
       "    </tr>\n",
       "    <tr>\n",
       "      <th>257</th>\n",
       "      <td>You're also not pushing two tons of steel with...</td>\n",
       "    </tr>\n",
       "    <tr>\n",
       "      <th>258</th>\n",
       "      <td>Those Japanese engineers like to build cool st...</td>\n",
       "    </tr>\n",
       "    <tr>\n",
       "      <th>259</th>\n",
       "      <td>Today? As a major global corporation, obviousl...</td>\n",
       "    </tr>\n",
       "    <tr>\n",
       "      <th>260</th>\n",
       "      <td>Moroso 3qt with an electric valve. Amazingly e...</td>\n",
       "    </tr>\n",
       "  </tbody>\n",
       "</table>\n",
       "<p>261 rows × 1 columns</p>\n",
       "</div>"
      ],
      "text/plain": [
       "                                               comment\n",
       "0                          Glad my plane runs on mogas\n",
       "1    Now if they could get their stupid ass medical...\n",
       "2    What's the catch? Good news doesn't usually sn...\n",
       "3    Does anyone/has anyone gotten lead blood tests...\n",
       "4                                       Piper STC meow\n",
       "..                                                 ...\n",
       "256  That's not necessarily true about finding moto...\n",
       "257  You're also not pushing two tons of steel with...\n",
       "258  Those Japanese engineers like to build cool st...\n",
       "259  Today? As a major global corporation, obviousl...\n",
       "260  Moroso 3qt with an electric valve. Amazingly e...\n",
       "\n",
       "[261 rows x 1 columns]"
      ]
     },
     "execution_count": 6,
     "metadata": {},
     "output_type": "execute_result"
    }
   ],
   "source": [
    "post_comments = []\n",
    "\n",
    "submission.comments.replace_more(limit=0)\n",
    "for comment in submission.comments.list():\n",
    "    post_comments.append(comment.body)\n",
    "    discussion = url\n",
    "\n",
    "# creating a dataframe\n",
    "reddit_df1 = pd.DataFrame(post_comments, columns = ['comment'])\n",
    "reddit_df1"
   ]
  },
  {
   "cell_type": "markdown",
   "id": "474be368",
   "metadata": {},
   "source": [
    "### Reddit thread 2: \"FAA approves hundreds more engines to use unleaded avgas\" from r/flying"
   ]
  },
  {
   "cell_type": "code",
   "execution_count": 7,
   "id": "6af156d0",
   "metadata": {},
   "outputs": [],
   "source": [
    "url = 'https://www.reddit.com/r/flying/comments/qih2o1/faa_approves_hundreds_more_engines_to_use/'\n",
    "submission = reddit_read_only.submission(url = url)"
   ]
  },
  {
   "cell_type": "code",
   "execution_count": 8,
   "id": "0f3010a1",
   "metadata": {},
   "outputs": [
    {
     "data": {
      "text/html": [
       "<div>\n",
       "<style scoped>\n",
       "    .dataframe tbody tr th:only-of-type {\n",
       "        vertical-align: middle;\n",
       "    }\n",
       "\n",
       "    .dataframe tbody tr th {\n",
       "        vertical-align: top;\n",
       "    }\n",
       "\n",
       "    .dataframe thead th {\n",
       "        text-align: right;\n",
       "    }\n",
       "</style>\n",
       "<table border=\"1\" class=\"dataframe\">\n",
       "  <thead>\n",
       "    <tr style=\"text-align: right;\">\n",
       "      <th></th>\n",
       "      <th>comment</th>\n",
       "    </tr>\n",
       "  </thead>\n",
       "  <tbody>\n",
       "    <tr>\n",
       "      <th>0</th>\n",
       "      <td>I think the original list only included some L...</td>\n",
       "    </tr>\n",
       "    <tr>\n",
       "      <th>1</th>\n",
       "      <td>No Lycoming IO-360-A3B6 :(</td>\n",
       "    </tr>\n",
       "    <tr>\n",
       "      <th>2</th>\n",
       "      <td>[deleted]</td>\n",
       "    </tr>\n",
       "    <tr>\n",
       "      <th>3</th>\n",
       "      <td>Notably absent are the Lycoming 540 and Contin...</td>\n",
       "    </tr>\n",
       "    <tr>\n",
       "      <th>4</th>\n",
       "      <td>Wow... this is long overdue.\\n\\nI understand f...</td>\n",
       "    </tr>\n",
       "    <tr>\n",
       "      <th>...</th>\n",
       "      <td>...</td>\n",
       "    </tr>\n",
       "    <tr>\n",
       "      <th>151</th>\n",
       "      <td>Interesting, TIL! I had no idea lead itself wa...</td>\n",
       "    </tr>\n",
       "    <tr>\n",
       "      <th>152</th>\n",
       "      <td>You pay $6.50 for avgas wow.  No wonder they'r...</td>\n",
       "    </tr>\n",
       "    <tr>\n",
       "      <th>153</th>\n",
       "      <td>You literally said TEL is “literally” the only...</td>\n",
       "    </tr>\n",
       "    <tr>\n",
       "      <th>154</th>\n",
       "      <td>I though it was the exhaust that was the issue...</td>\n",
       "    </tr>\n",
       "    <tr>\n",
       "      <th>155</th>\n",
       "      <td>Ya go up to some little villages and it’s mini...</td>\n",
       "    </tr>\n",
       "  </tbody>\n",
       "</table>\n",
       "<p>156 rows × 1 columns</p>\n",
       "</div>"
      ],
      "text/plain": [
       "                                               comment\n",
       "0    I think the original list only included some L...\n",
       "1                           No Lycoming IO-360-A3B6 :(\n",
       "2                                            [deleted]\n",
       "3    Notably absent are the Lycoming 540 and Contin...\n",
       "4    Wow... this is long overdue.\\n\\nI understand f...\n",
       "..                                                 ...\n",
       "151  Interesting, TIL! I had no idea lead itself wa...\n",
       "152  You pay $6.50 for avgas wow.  No wonder they'r...\n",
       "153  You literally said TEL is “literally” the only...\n",
       "154  I though it was the exhaust that was the issue...\n",
       "155  Ya go up to some little villages and it’s mini...\n",
       "\n",
       "[156 rows x 1 columns]"
      ]
     },
     "execution_count": 8,
     "metadata": {},
     "output_type": "execute_result"
    }
   ],
   "source": [
    "post_comments = []\n",
    "\n",
    "submission.comments.replace_more(limit=0)\n",
    "for comment in submission.comments.list():\n",
    "    post_comments.append(comment.body)\n",
    "\n",
    "# creating a dataframe\n",
    "reddit_df2 = pd.DataFrame(post_comments, columns = ['comment'])\n",
    "reddit_df2"
   ]
  },
  {
   "cell_type": "code",
   "execution_count": null,
   "id": "1a0b5454",
   "metadata": {},
   "outputs": [],
   "source": []
  }
 ],
 "metadata": {
  "kernelspec": {
   "display_name": "Python 3 (ipykernel)",
   "language": "python",
   "name": "python3"
  },
  "language_info": {
   "codemirror_mode": {
    "name": "ipython",
    "version": 3
   },
   "file_extension": ".py",
   "mimetype": "text/x-python",
   "name": "python",
   "nbconvert_exporter": "python",
   "pygments_lexer": "ipython3",
   "version": "3.9.7"
  }
 },
 "nbformat": 4,
 "nbformat_minor": 5
}
